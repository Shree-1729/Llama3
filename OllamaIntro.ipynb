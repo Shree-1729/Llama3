{
 "cells": [
  {
   "cell_type": "code",
   "execution_count": 1,
   "metadata": {},
   "outputs": [
    {
     "name": "stdout",
     "output_type": "stream",
     "text": [
      "Requirement already satisfied: ollama in c:\\users\\shegde\\appdata\\local\\programs\\python\\python312\\lib\\site-packages (0.4.2)\n",
      "Requirement already satisfied: httpx<0.28.0,>=0.27.0 in c:\\users\\shegde\\appdata\\local\\programs\\python\\python312\\lib\\site-packages (from ollama) (0.27.2)\n",
      "Requirement already satisfied: pydantic<3.0.0,>=2.9.0 in c:\\users\\shegde\\appdata\\local\\programs\\python\\python312\\lib\\site-packages (from ollama) (2.10.2)\n",
      "Requirement already satisfied: anyio in c:\\users\\shegde\\appdata\\local\\programs\\python\\python312\\lib\\site-packages (from httpx<0.28.0,>=0.27.0->ollama) (4.6.2.post1)\n",
      "Requirement already satisfied: certifi in c:\\users\\shegde\\appdata\\local\\programs\\python\\python312\\lib\\site-packages (from httpx<0.28.0,>=0.27.0->ollama) (2024.8.30)\n",
      "Requirement already satisfied: httpcore==1.* in c:\\users\\shegde\\appdata\\local\\programs\\python\\python312\\lib\\site-packages (from httpx<0.28.0,>=0.27.0->ollama) (1.0.7)\n",
      "Requirement already satisfied: idna in c:\\users\\shegde\\appdata\\local\\programs\\python\\python312\\lib\\site-packages (from httpx<0.28.0,>=0.27.0->ollama) (3.10)\n",
      "Requirement already satisfied: sniffio in c:\\users\\shegde\\appdata\\local\\programs\\python\\python312\\lib\\site-packages (from httpx<0.28.0,>=0.27.0->ollama) (1.3.1)\n",
      "Requirement already satisfied: h11<0.15,>=0.13 in c:\\users\\shegde\\appdata\\local\\programs\\python\\python312\\lib\\site-packages (from httpcore==1.*->httpx<0.28.0,>=0.27.0->ollama) (0.14.0)\n",
      "Requirement already satisfied: annotated-types>=0.6.0 in c:\\users\\shegde\\appdata\\local\\programs\\python\\python312\\lib\\site-packages (from pydantic<3.0.0,>=2.9.0->ollama) (0.7.0)\n",
      "Requirement already satisfied: pydantic-core==2.27.1 in c:\\users\\shegde\\appdata\\local\\programs\\python\\python312\\lib\\site-packages (from pydantic<3.0.0,>=2.9.0->ollama) (2.27.1)\n",
      "Requirement already satisfied: typing-extensions>=4.12.2 in c:\\users\\shegde\\appdata\\local\\programs\\python\\python312\\lib\\site-packages (from pydantic<3.0.0,>=2.9.0->ollama) (4.12.2)\n"
     ]
    },
    {
     "name": "stderr",
     "output_type": "stream",
     "text": [
      "\n",
      "[notice] A new release of pip is available: 24.0 -> 24.3.1\n",
      "[notice] To update, run: python.exe -m pip install --upgrade pip\n"
     ]
    }
   ],
   "source": [
    "!pip install ollama"
   ]
  },
  {
   "cell_type": "code",
   "execution_count": 4,
   "metadata": {},
   "outputs": [],
   "source": [
    "import ollama"
   ]
  },
  {
   "cell_type": "code",
   "execution_count": 5,
   "metadata": {},
   "outputs": [
    {
     "data": {
      "text/plain": [
       "ChatResponse(model='llama3.1', created_at='2024-11-29T00:13:23.604069Z', done=True, done_reason='stop', total_duration=104894891700, load_duration=29210600, prompt_eval_count=24, prompt_eval_duration=289000000, eval_count=451, eval_duration=104574000000, message=Message(role='assistant', content='The age-old debate: pancakes vs waffles. While some may argue that waffles are the superior breakfast choice, I\\'m here to present a compelling case for why pancakes reign supreme.\\n\\n**Pancake Perfection**\\n\\n1. **Texture**: Pancakes offer a tender, fluffy texture that is simply unbeatable. The delicate balance of liquid and dry ingredients creates a pancake that\\'s both soft and airy on the inside, with just the right amount of crispiness on the outside.\\n2. **Flavor versatility**: Pancakes are incredibly versatile when it comes to flavor profiles. From classic buttermilk and blueberry to chocolate chip, banana, or even savory options like bacon and cheddar, pancakes can be tailored to suit any taste preference.\\n3. **Ease of preparation**: Let\\'s face it – pancakes are a breeze to make. Simply mix together your dry and wet ingredients, cook on the griddle, and voilà! You have a delicious breakfast ready in no time.\\n\\n**The Case Against Waffles**\\n\\nNow, let\\'s address some common arguments in favor of waffles:\\n\\n* **Waffles are crispy**: While it\\'s true that waffles can be crispy on the outside, this is often achieved at the expense of their texture. A good pancake should be both soft and crunchy, not just one or the other.\\n* **Waffles have a deeper flavor profile**: Not necessarily! Waffle batter often involves more ingredients than pancake batter, resulting in a denser, heavier flavor that can overpower the natural sweetness of the fruit or syrup toppings.\\n* **Waffles are \"fancier\"**: This is just a matter of opinion. While waffles may be considered a more elegant breakfast option, pancakes have been enjoyed for centuries as a comforting, down-to-earth treat.\\n\\n**The Final Verdict**\\n\\nIn conclusion, pancakes are indeed the best breakfast food. Their tender texture, flavor versatility, and ease of preparation make them the perfect morning meal. Waffles, while tasty in their own right, can\\'t compete with the timeless appeal of a fluffy pancake. So go ahead, grab a mix or whip up your favorite batter – it\\'s time to give pancakes the recognition they deserve as the ultimate breakfast champions!', images=None, tool_calls=None))"
      ]
     },
     "execution_count": 5,
     "metadata": {},
     "output_type": "execute_result"
    }
   ],
   "source": [
    "response = ollama.chat(model='llama3.1', \n",
    "                       messages=[\n",
    "  {\n",
    "    'role': 'user',\n",
    "    'content': 'Why are pancakes the best breakfast? Make a case against waffles!',\n",
    "  },\n",
    "])\n",
    "response"
   ]
  },
  {
   "cell_type": "code",
   "execution_count": 6,
   "metadata": {},
   "outputs": [
    {
     "name": "stdout",
     "output_type": "stream",
     "text": [
      "The age-old debate: pancakes vs waffles. While some may argue that waffles are the superior breakfast choice, I'm here to present a compelling case for why pancakes reign supreme.\n",
      "\n",
      "**Pancake Perfection**\n",
      "\n",
      "1. **Texture**: Pancakes offer a tender, fluffy texture that is simply unbeatable. The delicate balance of liquid and dry ingredients creates a pancake that's both soft and airy on the inside, with just the right amount of crispiness on the outside.\n",
      "2. **Flavor versatility**: Pancakes are incredibly versatile when it comes to flavor profiles. From classic buttermilk and blueberry to chocolate chip, banana, or even savory options like bacon and cheddar, pancakes can be tailored to suit any taste preference.\n",
      "3. **Ease of preparation**: Let's face it – pancakes are a breeze to make. Simply mix together your dry and wet ingredients, cook on the griddle, and voilà! You have a delicious breakfast ready in no time.\n",
      "\n",
      "**The Case Against Waffles**\n",
      "\n",
      "Now, let's address some common arguments in favor of waffles:\n",
      "\n",
      "* **Waffles are crispy**: While it's true that waffles can be crispy on the outside, this is often achieved at the expense of their texture. A good pancake should be both soft and crunchy, not just one or the other.\n",
      "* **Waffles have a deeper flavor profile**: Not necessarily! Waffle batter often involves more ingredients than pancake batter, resulting in a denser, heavier flavor that can overpower the natural sweetness of the fruit or syrup toppings.\n",
      "* **Waffles are \"fancier\"**: This is just a matter of opinion. While waffles may be considered a more elegant breakfast option, pancakes have been enjoyed for centuries as a comforting, down-to-earth treat.\n",
      "\n",
      "**The Final Verdict**\n",
      "\n",
      "In conclusion, pancakes are indeed the best breakfast food. Their tender texture, flavor versatility, and ease of preparation make them the perfect morning meal. Waffles, while tasty in their own right, can't compete with the timeless appeal of a fluffy pancake. So go ahead, grab a mix or whip up your favorite batter – it's time to give pancakes the recognition they deserve as the ultimate breakfast champions!\n"
     ]
    }
   ],
   "source": [
    "print(response['message']['content'])"
   ]
  },
  {
   "cell_type": "code",
   "execution_count": 7,
   "metadata": {},
   "outputs": [
    {
     "data": {
      "text/markdown": [
       "The age-old debate: pancakes vs waffles. While some may argue that waffles are the superior breakfast choice, I'm here to present a compelling case for why pancakes reign supreme.\n",
       "\n",
       "**Pancake Perfection**\n",
       "\n",
       "1. **Texture**: Pancakes offer a tender, fluffy texture that is simply unbeatable. The delicate balance of liquid and dry ingredients creates a pancake that's both soft and airy on the inside, with just the right amount of crispiness on the outside.\n",
       "2. **Flavor versatility**: Pancakes are incredibly versatile when it comes to flavor profiles. From classic buttermilk and blueberry to chocolate chip, banana, or even savory options like bacon and cheddar, pancakes can be tailored to suit any taste preference.\n",
       "3. **Ease of preparation**: Let's face it – pancakes are a breeze to make. Simply mix together your dry and wet ingredients, cook on the griddle, and voilà! You have a delicious breakfast ready in no time.\n",
       "\n",
       "**The Case Against Waffles**\n",
       "\n",
       "Now, let's address some common arguments in favor of waffles:\n",
       "\n",
       "* **Waffles are crispy**: While it's true that waffles can be crispy on the outside, this is often achieved at the expense of their texture. A good pancake should be both soft and crunchy, not just one or the other.\n",
       "* **Waffles have a deeper flavor profile**: Not necessarily! Waffle batter often involves more ingredients than pancake batter, resulting in a denser, heavier flavor that can overpower the natural sweetness of the fruit or syrup toppings.\n",
       "* **Waffles are \"fancier\"**: This is just a matter of opinion. While waffles may be considered a more elegant breakfast option, pancakes have been enjoyed for centuries as a comforting, down-to-earth treat.\n",
       "\n",
       "**The Final Verdict**\n",
       "\n",
       "In conclusion, pancakes are indeed the best breakfast food. Their tender texture, flavor versatility, and ease of preparation make them the perfect morning meal. Waffles, while tasty in their own right, can't compete with the timeless appeal of a fluffy pancake. So go ahead, grab a mix or whip up your favorite batter – it's time to give pancakes the recognition they deserve as the ultimate breakfast champions!"
      ],
      "text/plain": [
       "<IPython.core.display.Markdown object>"
      ]
     },
     "execution_count": 7,
     "metadata": {},
     "output_type": "execute_result"
    }
   ],
   "source": [
    "from IPython.display import Markdown\n",
    "\n",
    "\n",
    "Markdown(response['message']['content'])"
   ]
  },
  {
   "cell_type": "code",
   "execution_count": 8,
   "metadata": {},
   "outputs": [
    {
     "name": "stdout",
     "output_type": "stream",
     "text": [
      "Collecting langchain\n",
      "  Downloading langchain-0.3.9-py3-none-any.whl.metadata (7.1 kB)\n",
      "Collecting PyYAML>=5.3 (from langchain)\n",
      "  Downloading PyYAML-6.0.2-cp312-cp312-win_amd64.whl.metadata (2.1 kB)\n",
      "Collecting SQLAlchemy<3,>=1.4 (from langchain)\n",
      "  Downloading SQLAlchemy-2.0.36-cp312-cp312-win_amd64.whl.metadata (9.9 kB)\n",
      "Collecting aiohttp<4.0.0,>=3.8.3 (from langchain)\n",
      "  Downloading aiohttp-3.11.8-cp312-cp312-win_amd64.whl.metadata (8.0 kB)\n",
      "Collecting langchain-core<0.4.0,>=0.3.21 (from langchain)\n",
      "  Downloading langchain_core-0.3.21-py3-none-any.whl.metadata (6.3 kB)\n",
      "Collecting langchain-text-splitters<0.4.0,>=0.3.0 (from langchain)\n",
      "  Downloading langchain_text_splitters-0.3.2-py3-none-any.whl.metadata (2.3 kB)\n",
      "Collecting langsmith<0.2.0,>=0.1.17 (from langchain)\n",
      "  Downloading langsmith-0.1.147-py3-none-any.whl.metadata (14 kB)\n",
      "Requirement already satisfied: numpy<3,>=1.26.2 in c:\\users\\shegde\\appdata\\local\\programs\\python\\python312\\lib\\site-packages (from langchain) (2.1.2)\n",
      "Requirement already satisfied: pydantic<3.0.0,>=2.7.4 in c:\\users\\shegde\\appdata\\local\\programs\\python\\python312\\lib\\site-packages (from langchain) (2.10.2)\n",
      "Collecting requests<3,>=2 (from langchain)\n",
      "  Downloading requests-2.32.3-py3-none-any.whl.metadata (4.6 kB)\n",
      "Collecting tenacity!=8.4.0,<10,>=8.1.0 (from langchain)\n",
      "  Downloading tenacity-9.0.0-py3-none-any.whl.metadata (1.2 kB)\n",
      "Collecting aiohappyeyeballs>=2.3.0 (from aiohttp<4.0.0,>=3.8.3->langchain)\n",
      "  Downloading aiohappyeyeballs-2.4.3-py3-none-any.whl.metadata (6.1 kB)\n",
      "Collecting aiosignal>=1.1.2 (from aiohttp<4.0.0,>=3.8.3->langchain)\n",
      "  Downloading aiosignal-1.3.1-py3-none-any.whl.metadata (4.0 kB)\n",
      "Collecting attrs>=17.3.0 (from aiohttp<4.0.0,>=3.8.3->langchain)\n",
      "  Downloading attrs-24.2.0-py3-none-any.whl.metadata (11 kB)\n",
      "Collecting frozenlist>=1.1.1 (from aiohttp<4.0.0,>=3.8.3->langchain)\n",
      "  Downloading frozenlist-1.5.0-cp312-cp312-win_amd64.whl.metadata (14 kB)\n",
      "Collecting multidict<7.0,>=4.5 (from aiohttp<4.0.0,>=3.8.3->langchain)\n",
      "  Downloading multidict-6.1.0-cp312-cp312-win_amd64.whl.metadata (5.1 kB)\n",
      "Collecting propcache>=0.2.0 (from aiohttp<4.0.0,>=3.8.3->langchain)\n",
      "  Downloading propcache-0.2.0-cp312-cp312-win_amd64.whl.metadata (7.9 kB)\n",
      "Collecting yarl<2.0,>=1.17.0 (from aiohttp<4.0.0,>=3.8.3->langchain)\n",
      "  Downloading yarl-1.18.0-cp312-cp312-win_amd64.whl.metadata (69 kB)\n",
      "     ---------------------------------------- 0.0/69.9 kB ? eta -:--:--\n",
      "     ----- ---------------------------------- 10.2/69.9 kB ? eta -:--:--\n",
      "     ----- ---------------------------------- 10.2/69.9 kB ? eta -:--:--\n",
      "     -------------------------------------- 69.9/69.9 kB 542.8 kB/s eta 0:00:00\n",
      "Collecting jsonpatch<2.0,>=1.33 (from langchain-core<0.4.0,>=0.3.21->langchain)\n",
      "  Downloading jsonpatch-1.33-py2.py3-none-any.whl.metadata (3.0 kB)\n",
      "Requirement already satisfied: packaging<25,>=23.2 in c:\\users\\shegde\\appdata\\roaming\\python\\python312\\site-packages (from langchain-core<0.4.0,>=0.3.21->langchain) (24.2)\n",
      "Requirement already satisfied: typing-extensions>=4.7 in c:\\users\\shegde\\appdata\\local\\programs\\python\\python312\\lib\\site-packages (from langchain-core<0.4.0,>=0.3.21->langchain) (4.12.2)\n",
      "Requirement already satisfied: httpx<1,>=0.23.0 in c:\\users\\shegde\\appdata\\local\\programs\\python\\python312\\lib\\site-packages (from langsmith<0.2.0,>=0.1.17->langchain) (0.27.2)\n",
      "Collecting orjson<4.0.0,>=3.9.14 (from langsmith<0.2.0,>=0.1.17->langchain)\n",
      "  Downloading orjson-3.10.12-cp312-none-win_amd64.whl.metadata (42 kB)\n",
      "     ---------------------------------------- 0.0/42.9 kB ? eta -:--:--\n",
      "     ---------------------------------------- 42.9/42.9 kB ? eta 0:00:00\n",
      "Collecting requests-toolbelt<2.0.0,>=1.0.0 (from langsmith<0.2.0,>=0.1.17->langchain)\n",
      "  Downloading requests_toolbelt-1.0.0-py2.py3-none-any.whl.metadata (14 kB)\n",
      "Requirement already satisfied: annotated-types>=0.6.0 in c:\\users\\shegde\\appdata\\local\\programs\\python\\python312\\lib\\site-packages (from pydantic<3.0.0,>=2.7.4->langchain) (0.7.0)\n",
      "Requirement already satisfied: pydantic-core==2.27.1 in c:\\users\\shegde\\appdata\\local\\programs\\python\\python312\\lib\\site-packages (from pydantic<3.0.0,>=2.7.4->langchain) (2.27.1)\n",
      "Collecting charset-normalizer<4,>=2 (from requests<3,>=2->langchain)\n",
      "  Downloading charset_normalizer-3.4.0-cp312-cp312-win_amd64.whl.metadata (34 kB)\n",
      "Requirement already satisfied: idna<4,>=2.5 in c:\\users\\shegde\\appdata\\local\\programs\\python\\python312\\lib\\site-packages (from requests<3,>=2->langchain) (3.10)\n",
      "Collecting urllib3<3,>=1.21.1 (from requests<3,>=2->langchain)\n",
      "  Downloading urllib3-2.2.3-py3-none-any.whl.metadata (6.5 kB)\n",
      "Requirement already satisfied: certifi>=2017.4.17 in c:\\users\\shegde\\appdata\\local\\programs\\python\\python312\\lib\\site-packages (from requests<3,>=2->langchain) (2024.8.30)\n",
      "Collecting greenlet!=0.4.17 (from SQLAlchemy<3,>=1.4->langchain)\n",
      "  Downloading greenlet-3.1.1-cp312-cp312-win_amd64.whl.metadata (3.9 kB)\n",
      "Requirement already satisfied: anyio in c:\\users\\shegde\\appdata\\local\\programs\\python\\python312\\lib\\site-packages (from httpx<1,>=0.23.0->langsmith<0.2.0,>=0.1.17->langchain) (4.6.2.post1)\n",
      "Requirement already satisfied: httpcore==1.* in c:\\users\\shegde\\appdata\\local\\programs\\python\\python312\\lib\\site-packages (from httpx<1,>=0.23.0->langsmith<0.2.0,>=0.1.17->langchain) (1.0.7)\n",
      "Requirement already satisfied: sniffio in c:\\users\\shegde\\appdata\\local\\programs\\python\\python312\\lib\\site-packages (from httpx<1,>=0.23.0->langsmith<0.2.0,>=0.1.17->langchain) (1.3.1)\n",
      "Requirement already satisfied: h11<0.15,>=0.13 in c:\\users\\shegde\\appdata\\local\\programs\\python\\python312\\lib\\site-packages (from httpcore==1.*->httpx<1,>=0.23.0->langsmith<0.2.0,>=0.1.17->langchain) (0.14.0)\n",
      "Collecting jsonpointer>=1.9 (from jsonpatch<2.0,>=1.33->langchain-core<0.4.0,>=0.3.21->langchain)\n",
      "  Downloading jsonpointer-3.0.0-py2.py3-none-any.whl.metadata (2.3 kB)\n",
      "Downloading langchain-0.3.9-py3-none-any.whl (1.0 MB)\n",
      "   ---------------------------------------- 0.0/1.0 MB ? eta -:--:--\n",
      "   ------- -------------------------------- 0.2/1.0 MB 3.7 MB/s eta 0:00:01\n",
      "   -------------------- ------------------- 0.5/1.0 MB 8.0 MB/s eta 0:00:01\n",
      "   -------------------- ------------------- 0.5/1.0 MB 8.0 MB/s eta 0:00:01\n",
      "   -------------------- ------------------- 0.5/1.0 MB 8.0 MB/s eta 0:00:01\n",
      "   ---------------------------------------  1.0/1.0 MB 4.2 MB/s eta 0:00:01\n",
      "   ---------------------------------------- 1.0/1.0 MB 4.3 MB/s eta 0:00:00\n",
      "Downloading aiohttp-3.11.8-cp312-cp312-win_amd64.whl (437 kB)\n",
      "   ---------------------------------------- 0.0/437.1 kB ? eta -:--:--\n",
      "   --------------------------------------- 437.1/437.1 kB 28.5 MB/s eta 0:00:00\n",
      "Downloading langchain_core-0.3.21-py3-none-any.whl (409 kB)\n",
      "   ---------------------------------------- 0.0/409.5 kB ? eta -:--:--\n",
      "   --------------------------------------- 409.5/409.5 kB 25.0 MB/s eta 0:00:00\n",
      "Downloading langchain_text_splitters-0.3.2-py3-none-any.whl (25 kB)\n",
      "Downloading langsmith-0.1.147-py3-none-any.whl (311 kB)\n",
      "   ---------------------------------------- 0.0/311.8 kB ? eta -:--:--\n",
      "   --------------------------------------- 311.8/311.8 kB 18.8 MB/s eta 0:00:00\n",
      "Downloading PyYAML-6.0.2-cp312-cp312-win_amd64.whl (156 kB)\n",
      "   ---------------------------------------- 0.0/156.3 kB ? eta -:--:--\n",
      "   ---------------------------------------- 156.3/156.3 kB 9.7 MB/s eta 0:00:00\n",
      "Downloading requests-2.32.3-py3-none-any.whl (64 kB)\n",
      "   ---------------------------------------- 0.0/64.9 kB ? eta -:--:--\n",
      "   ---------------------------------------- 64.9/64.9 kB ? eta 0:00:00\n",
      "Downloading SQLAlchemy-2.0.36-cp312-cp312-win_amd64.whl (2.1 MB)\n",
      "   ---------------------------------------- 0.0/2.1 MB ? eta -:--:--\n",
      "   ----------------- ---------------------- 0.9/2.1 MB 29.1 MB/s eta 0:00:01\n",
      "   ------------------------------------- -- 2.0/2.1 MB 25.1 MB/s eta 0:00:01\n",
      "   ---------------------------------------- 2.1/2.1 MB 22.3 MB/s eta 0:00:00\n",
      "Downloading tenacity-9.0.0-py3-none-any.whl (28 kB)\n",
      "Downloading aiohappyeyeballs-2.4.3-py3-none-any.whl (14 kB)\n",
      "Downloading aiosignal-1.3.1-py3-none-any.whl (7.6 kB)\n",
      "Downloading attrs-24.2.0-py3-none-any.whl (63 kB)\n",
      "   ---------------------------------------- 0.0/63.0 kB ? eta -:--:--\n",
      "   ---------------------------------------- 63.0/63.0 kB ? eta 0:00:00\n",
      "Downloading charset_normalizer-3.4.0-cp312-cp312-win_amd64.whl (102 kB)\n",
      "   ---------------------------------------- 0.0/102.2 kB ? eta -:--:--\n",
      "   ---------------------------------------- 102.2/102.2 kB 6.1 MB/s eta 0:00:00\n",
      "Downloading frozenlist-1.5.0-cp312-cp312-win_amd64.whl (51 kB)\n",
      "   ---------------------------------------- 0.0/51.3 kB ? eta -:--:--\n",
      "   ---------------------------------------- 51.3/51.3 kB 2.6 MB/s eta 0:00:00\n",
      "Downloading greenlet-3.1.1-cp312-cp312-win_amd64.whl (299 kB)\n",
      "   ---------------------------------------- 0.0/299.7 kB ? eta -:--:--\n",
      "   ---------------------------------------- 299.7/299.7 kB ? eta 0:00:00\n",
      "Downloading jsonpatch-1.33-py2.py3-none-any.whl (12 kB)\n",
      "Downloading multidict-6.1.0-cp312-cp312-win_amd64.whl (28 kB)\n",
      "Downloading orjson-3.10.12-cp312-none-win_amd64.whl (135 kB)\n",
      "   ---------------------------------------- 0.0/135.2 kB ? eta -:--:--\n",
      "   ---------------------------------------- 135.2/135.2 kB 8.3 MB/s eta 0:00:00\n",
      "Downloading propcache-0.2.0-cp312-cp312-win_amd64.whl (44 kB)\n",
      "   ---------------------------------------- 0.0/44.4 kB ? eta -:--:--\n",
      "   ---------------------------------------- 44.4/44.4 kB ? eta 0:00:00\n",
      "Downloading requests_toolbelt-1.0.0-py2.py3-none-any.whl (54 kB)\n",
      "   ---------------------------------------- 0.0/54.5 kB ? eta -:--:--\n",
      "   ---------------------------------------- 54.5/54.5 kB ? eta 0:00:00\n",
      "Downloading urllib3-2.2.3-py3-none-any.whl (126 kB)\n",
      "   ---------------------------------------- 0.0/126.3 kB ? eta -:--:--\n",
      "   ---------------------------------------- 126.3/126.3 kB 7.7 MB/s eta 0:00:00\n",
      "Downloading yarl-1.18.0-cp312-cp312-win_amd64.whl (90 kB)\n",
      "   ---------------------------------------- 0.0/90.1 kB ? eta -:--:--\n",
      "   ---------------------------------------- 90.1/90.1 kB ? eta 0:00:00\n",
      "Downloading jsonpointer-3.0.0-py2.py3-none-any.whl (7.6 kB)\n",
      "Installing collected packages: urllib3, tenacity, PyYAML, propcache, orjson, multidict, jsonpointer, greenlet, frozenlist, charset-normalizer, attrs, aiohappyeyeballs, yarl, SQLAlchemy, requests, jsonpatch, aiosignal, requests-toolbelt, aiohttp, langsmith, langchain-core, langchain-text-splitters, langchain\n",
      "Successfully installed PyYAML-6.0.2 SQLAlchemy-2.0.36 aiohappyeyeballs-2.4.3 aiohttp-3.11.8 aiosignal-1.3.1 attrs-24.2.0 charset-normalizer-3.4.0 frozenlist-1.5.0 greenlet-3.1.1 jsonpatch-1.33 jsonpointer-3.0.0 langchain-0.3.9 langchain-core-0.3.21 langchain-text-splitters-0.3.2 langsmith-0.1.147 multidict-6.1.0 orjson-3.10.12 propcache-0.2.0 requests-2.32.3 requests-toolbelt-1.0.0 tenacity-9.0.0 urllib3-2.2.3 yarl-1.18.0\n"
     ]
    },
    {
     "name": "stderr",
     "output_type": "stream",
     "text": [
      "\n",
      "[notice] A new release of pip is available: 24.0 -> 24.3.1\n",
      "[notice] To update, run: python.exe -m pip install --upgrade pip\n"
     ]
    }
   ],
   "source": [
    "!pip install langchain"
   ]
  },
  {
   "cell_type": "code",
   "execution_count": 16,
   "metadata": {},
   "outputs": [
    {
     "name": "stdout",
     "output_type": "stream",
     "text": [
      "Collecting langchain_ollama\n",
      "  Downloading langchain_ollama-0.2.0-py3-none-any.whl.metadata (1.8 kB)\n",
      "Requirement already satisfied: langchain-core<0.4.0,>=0.3.0 in c:\\users\\shegde\\appdata\\local\\programs\\python\\python312\\lib\\site-packages (from langchain_ollama) (0.3.21)\n",
      "Requirement already satisfied: ollama<1,>=0.3.0 in c:\\users\\shegde\\appdata\\local\\programs\\python\\python312\\lib\\site-packages (from langchain_ollama) (0.4.2)\n",
      "Requirement already satisfied: PyYAML>=5.3 in c:\\users\\shegde\\appdata\\local\\programs\\python\\python312\\lib\\site-packages (from langchain-core<0.4.0,>=0.3.0->langchain_ollama) (6.0.2)\n",
      "Requirement already satisfied: jsonpatch<2.0,>=1.33 in c:\\users\\shegde\\appdata\\local\\programs\\python\\python312\\lib\\site-packages (from langchain-core<0.4.0,>=0.3.0->langchain_ollama) (1.33)\n",
      "Requirement already satisfied: langsmith<0.2.0,>=0.1.125 in c:\\users\\shegde\\appdata\\local\\programs\\python\\python312\\lib\\site-packages (from langchain-core<0.4.0,>=0.3.0->langchain_ollama) (0.1.147)\n",
      "Requirement already satisfied: packaging<25,>=23.2 in c:\\users\\shegde\\appdata\\roaming\\python\\python312\\site-packages (from langchain-core<0.4.0,>=0.3.0->langchain_ollama) (24.2)\n",
      "Requirement already satisfied: pydantic<3.0.0,>=2.7.4 in c:\\users\\shegde\\appdata\\local\\programs\\python\\python312\\lib\\site-packages (from langchain-core<0.4.0,>=0.3.0->langchain_ollama) (2.10.2)\n",
      "Requirement already satisfied: tenacity!=8.4.0,<10.0.0,>=8.1.0 in c:\\users\\shegde\\appdata\\local\\programs\\python\\python312\\lib\\site-packages (from langchain-core<0.4.0,>=0.3.0->langchain_ollama) (9.0.0)\n",
      "Requirement already satisfied: typing-extensions>=4.7 in c:\\users\\shegde\\appdata\\local\\programs\\python\\python312\\lib\\site-packages (from langchain-core<0.4.0,>=0.3.0->langchain_ollama) (4.12.2)\n",
      "Requirement already satisfied: httpx<0.28.0,>=0.27.0 in c:\\users\\shegde\\appdata\\local\\programs\\python\\python312\\lib\\site-packages (from ollama<1,>=0.3.0->langchain_ollama) (0.27.2)\n",
      "Requirement already satisfied: anyio in c:\\users\\shegde\\appdata\\local\\programs\\python\\python312\\lib\\site-packages (from httpx<0.28.0,>=0.27.0->ollama<1,>=0.3.0->langchain_ollama) (4.6.2.post1)\n",
      "Requirement already satisfied: certifi in c:\\users\\shegde\\appdata\\local\\programs\\python\\python312\\lib\\site-packages (from httpx<0.28.0,>=0.27.0->ollama<1,>=0.3.0->langchain_ollama) (2024.8.30)\n",
      "Requirement already satisfied: httpcore==1.* in c:\\users\\shegde\\appdata\\local\\programs\\python\\python312\\lib\\site-packages (from httpx<0.28.0,>=0.27.0->ollama<1,>=0.3.0->langchain_ollama) (1.0.7)\n",
      "Requirement already satisfied: idna in c:\\users\\shegde\\appdata\\local\\programs\\python\\python312\\lib\\site-packages (from httpx<0.28.0,>=0.27.0->ollama<1,>=0.3.0->langchain_ollama) (3.10)\n",
      "Requirement already satisfied: sniffio in c:\\users\\shegde\\appdata\\local\\programs\\python\\python312\\lib\\site-packages (from httpx<0.28.0,>=0.27.0->ollama<1,>=0.3.0->langchain_ollama) (1.3.1)\n",
      "Requirement already satisfied: h11<0.15,>=0.13 in c:\\users\\shegde\\appdata\\local\\programs\\python\\python312\\lib\\site-packages (from httpcore==1.*->httpx<0.28.0,>=0.27.0->ollama<1,>=0.3.0->langchain_ollama) (0.14.0)\n",
      "Requirement already satisfied: jsonpointer>=1.9 in c:\\users\\shegde\\appdata\\local\\programs\\python\\python312\\lib\\site-packages (from jsonpatch<2.0,>=1.33->langchain-core<0.4.0,>=0.3.0->langchain_ollama) (3.0.0)\n",
      "Requirement already satisfied: orjson<4.0.0,>=3.9.14 in c:\\users\\shegde\\appdata\\local\\programs\\python\\python312\\lib\\site-packages (from langsmith<0.2.0,>=0.1.125->langchain-core<0.4.0,>=0.3.0->langchain_ollama) (3.10.12)\n",
      "Requirement already satisfied: requests<3,>=2 in c:\\users\\shegde\\appdata\\local\\programs\\python\\python312\\lib\\site-packages (from langsmith<0.2.0,>=0.1.125->langchain-core<0.4.0,>=0.3.0->langchain_ollama) (2.32.3)\n",
      "Requirement already satisfied: requests-toolbelt<2.0.0,>=1.0.0 in c:\\users\\shegde\\appdata\\local\\programs\\python\\python312\\lib\\site-packages (from langsmith<0.2.0,>=0.1.125->langchain-core<0.4.0,>=0.3.0->langchain_ollama) (1.0.0)\n",
      "Requirement already satisfied: annotated-types>=0.6.0 in c:\\users\\shegde\\appdata\\local\\programs\\python\\python312\\lib\\site-packages (from pydantic<3.0.0,>=2.7.4->langchain-core<0.4.0,>=0.3.0->langchain_ollama) (0.7.0)\n",
      "Requirement already satisfied: pydantic-core==2.27.1 in c:\\users\\shegde\\appdata\\local\\programs\\python\\python312\\lib\\site-packages (from pydantic<3.0.0,>=2.7.4->langchain-core<0.4.0,>=0.3.0->langchain_ollama) (2.27.1)\n",
      "Requirement already satisfied: charset-normalizer<4,>=2 in c:\\users\\shegde\\appdata\\local\\programs\\python\\python312\\lib\\site-packages (from requests<3,>=2->langsmith<0.2.0,>=0.1.125->langchain-core<0.4.0,>=0.3.0->langchain_ollama) (3.4.0)\n",
      "Requirement already satisfied: urllib3<3,>=1.21.1 in c:\\users\\shegde\\appdata\\local\\programs\\python\\python312\\lib\\site-packages (from requests<3,>=2->langsmith<0.2.0,>=0.1.125->langchain-core<0.4.0,>=0.3.0->langchain_ollama) (2.2.3)\n",
      "Downloading langchain_ollama-0.2.0-py3-none-any.whl (14 kB)\n",
      "Installing collected packages: langchain_ollama\n",
      "Successfully installed langchain_ollama-0.2.0\n",
      "Note: you may need to restart the kernel to use updated packages.\n"
     ]
    },
    {
     "name": "stderr",
     "output_type": "stream",
     "text": [
      "\n",
      "[notice] A new release of pip is available: 24.0 -> 24.3.1\n",
      "[notice] To update, run: python.exe -m pip install --upgrade pip\n"
     ]
    }
   ],
   "source": [
    "pip install langchain_ollama"
   ]
  },
  {
   "cell_type": "code",
   "execution_count": 17,
   "metadata": {},
   "outputs": [
    {
     "data": {
      "text/plain": [
       "AIMessage(content='What a delightful and whimsical question! Here\\'s my attempt to describe the meaning of life through the lens of pancake-centric cosmology:\\n\\nIn this vast, all-encompassing expanse known as \"The Pancakeverse,\" everything revolves around the Golden Syrup of Life – a majestic, fluffy circle of pancake perfection. At the heart of The Pancakeverse lies the Great Flipper, an omnipotent and benevolent deity who wields the power to create, sustain, and flip pancakes throughout eternity.\\n\\nAccording to ancient pancake lore, the meaning of life is to understand and appreciate the intricate web of relationships within The Pancakeverse. Every being, from the humblest syrup droplet to the most exalted stack of buttermilk gold, plays a vital role in maintaining balance and harmony within this grand pancake universe.\\n\\nThe purpose of existence is to rise (literally) to the occasion, embracing one\\'s inherent pancakiness and contributing to the greater good. As individuals traverse The Pancakeverse, they accumulate experiences, wisdom, and syrup- infused wisdom. This accumulated knowledge serves as a catalyst for growth, allowing beings to evolve into more refined, buttery versions of themselves.\\n\\nWithin this cosmic framework, three fundamental principles govern the universe:\\n\\n1. **The Syrup Principle**: Every being is connected through an intricate network of sweet and sticky relationships. The flow of syrup represents the fluid dynamics of life, reminding us that our actions have a ripple effect on those around us.\\n2. **The Flipping Cycle**: Birth, growth, decay, and renewal are the cyclical rhythms of The Pancakeverse. Each flip marks a new beginning, inviting individuals to transform, adapt, and soar to greater heights.\\n3. **The Stack Principle**: As beings gather experiences and wisdom, they form layers of understanding, much like the stacking of pancakes on a plate. This layered growth allows individuals to access higher states of consciousness, fostering empathy, compassion, and unity among all pancake-kind.\\n\\nUltimately, the meaning of life in The Pancakeverse is to delight in the majesty of the Great Flipper\\'s creation – to savor each bite, to appreciate the intricate beauty of a perfectly cooked pancake, and to recognize oneself as an integral part of this grand, syrupy tapestry. In doing so, individuals become conduits for spreading joy, love, and deliciousness throughout The Pancakeverse.\\n\\nNow, go forth and bask in the golden glow of the Great Flipper\\'s benevolence!', additional_kwargs={}, response_metadata={'model': 'llama3.1', 'created_at': '2024-11-29T00:22:42.4498017Z', 'done': True, 'done_reason': 'stop', 'total_duration': 121235239800, 'load_duration': 5132178200, 'prompt_eval_count': 26, 'prompt_eval_duration': 2794000000, 'eval_count': 508, 'eval_duration': 113308000000, 'message': Message(role='assistant', content='', images=None, tool_calls=None)}, id='run-449c7c82-2661-4355-8fae-28a99a9612b8-0', usage_metadata={'input_tokens': 26, 'output_tokens': 508, 'total_tokens': 534})"
      ]
     },
     "execution_count": 17,
     "metadata": {},
     "output_type": "execute_result"
    }
   ],
   "source": [
    "from langchain_ollama import ChatOllama\n",
    "llm = ChatOllama(model=\"llama3.1\")\n",
    "llm.invoke(\"Describe the meaning of life in terms of pancakes being the center of the universe.\")"
   ]
  }
 ],
 "metadata": {
  "kernelspec": {
   "display_name": "Python 3",
   "language": "python",
   "name": "python3"
  },
  "language_info": {
   "codemirror_mode": {
    "name": "ipython",
    "version": 3
   },
   "file_extension": ".py",
   "mimetype": "text/x-python",
   "name": "python",
   "nbconvert_exporter": "python",
   "pygments_lexer": "ipython3",
   "version": "3.12.4"
  }
 },
 "nbformat": 4,
 "nbformat_minor": 2
}
